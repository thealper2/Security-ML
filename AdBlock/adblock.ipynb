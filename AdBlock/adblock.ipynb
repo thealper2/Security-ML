{
 "cells": [
  {
   "cell_type": "code",
   "execution_count": 10,
   "id": "ef6119c7",
   "metadata": {},
   "outputs": [],
   "source": [
    "import pandas as pd\n",
    "import numpy as np\n",
    "from sklearn.model_selection import train_test_split, GridSearchCV\n",
    "from sklearn.ensemble import RandomForestClassifier\n",
    "from sklearn.metrics import mean_squared_error"
   ]
  },
  {
   "cell_type": "code",
   "execution_count": 11,
   "id": "c3ffc80c",
   "metadata": {},
   "outputs": [
    {
     "name": "stderr",
     "output_type": "stream",
     "text": [
      "C:\\Users\\akrc2\\AppData\\Local\\Temp\\ipykernel_19376\\3058516354.py:1: DtypeWarning: Columns (3) have mixed types. Specify dtype option on import or set low_memory=False.\n",
      "  df = pd.read_csv(\"ad.data\")\n"
     ]
    },
    {
     "data": {
      "text/plain": [
       "Index([' 125', ' 125.1', '   1.0', '1', '0', '0.1', '0.2', '0.3', '0.4', '0.5',\n",
       "       ...\n",
       "       '0.1532', '0.1533', '0.1534', '0.1535', '0.1536', '0.1537', '0.1538',\n",
       "       '0.1539', '0.1540', 'ad.'],\n",
       "      dtype='object', length=1559)"
      ]
     },
     "execution_count": 11,
     "metadata": {},
     "output_type": "execute_result"
    }
   ],
   "source": [
    "df = pd.read_csv(\"ad.data\")\n",
    "df.columns"
   ]
  },
  {
   "cell_type": "code",
   "execution_count": 12,
   "id": "65dde4d7",
   "metadata": {},
   "outputs": [
    {
     "data": {
      "text/plain": [
       "3278"
      ]
     },
     "execution_count": 12,
     "metadata": {},
     "output_type": "execute_result"
    }
   ],
   "source": [
    "len(df)"
   ]
  },
  {
   "cell_type": "code",
   "execution_count": 13,
   "id": "0927a24c",
   "metadata": {},
   "outputs": [],
   "source": [
    "drop_rows = []\n",
    "\n",
    "for index, row in df.iterrows():\n",
    "    for columns in df.columns:\n",
    "        value = str(row[columns]).strip()\n",
    "        if value == \"?\":\n",
    "            drop_rows.append(index)\n",
    "\n",
    "df = df.drop(df.index[list(set(drop_rows))])"
   ]
  },
  {
   "cell_type": "code",
   "execution_count": 14,
   "id": "cc88b842",
   "metadata": {},
   "outputs": [
    {
     "data": {
      "text/plain": [
       "2358"
      ]
     },
     "execution_count": 14,
     "metadata": {},
     "output_type": "execute_result"
    }
   ],
   "source": [
    "len(df)"
   ]
  },
  {
   "cell_type": "code",
   "execution_count": 15,
   "id": "3023454e",
   "metadata": {},
   "outputs": [],
   "source": [
    "def ad_replace(row):\n",
    "    if row[\"ad.\"] == \"ad.\":\n",
    "        return 1\n",
    "    else:\n",
    "        return 0\n",
    "    \n",
    "df[\"ad.\"] = df.apply(ad_replace, axis=1)"
   ]
  },
  {
   "cell_type": "code",
   "execution_count": 16,
   "id": "52a4c94f",
   "metadata": {},
   "outputs": [],
   "source": [
    "X = df.drop(['ad.'], axis=1).values\n",
    "y = df['ad.'].values\n",
    "\n",
    "X_train, X_test, y_train, y_test = train_test_split(X, y, test_size=0.2, random_state=4242)"
   ]
  },
  {
   "cell_type": "code",
   "execution_count": 17,
   "id": "12543ed3",
   "metadata": {},
   "outputs": [],
   "source": [
    "rf_model = RandomForestClassifier().fit(X_train, y_train)"
   ]
  },
  {
   "cell_type": "markdown",
   "id": "4ace6cc9",
   "metadata": {},
   "source": [
    "# Tahmin"
   ]
  },
  {
   "cell_type": "code",
   "execution_count": 19,
   "id": "132a5261",
   "metadata": {},
   "outputs": [
    {
     "data": {
      "text/plain": [
       "0.15944820103582016"
      ]
     },
     "execution_count": 19,
     "metadata": {},
     "output_type": "execute_result"
    }
   ],
   "source": [
    "y_pred = rf_model.predict(X_test)\n",
    "np.sqrt(mean_squared_error(y_test, y_pred))"
   ]
  },
  {
   "cell_type": "markdown",
   "id": "47c03e94",
   "metadata": {},
   "source": [
    "# Model Tuning"
   ]
  },
  {
   "cell_type": "code",
   "execution_count": null,
   "id": "a92bdbf7",
   "metadata": {},
   "outputs": [],
   "source": [
    "rf_params = {'max_depth': list(range(1, 10)), 'max_features': [5, 10, 15, 20], 'n_estimators': [100, 200, 300, 400, 500, 1000]}\n",
    "rf_cv_model = GridSearchCV(rf_model, rf_params, cv=10, n_jobs=-1).fit(X_train, y_train)\n",
    "rf_cv_model.best_params_"
   ]
  },
  {
   "cell_type": "code",
   "execution_count": null,
   "id": "d80b65ed",
   "metadata": {},
   "outputs": [],
   "source": [
    "rf_tuned = RandomForestClassifier(max_depth=9, max_features=20, n_estimators=100).fit(X_train, y_train)\n",
    "y_pred = rf_tuned.predict(X_test)\n",
    "np.sqrt(mean_squared_error(y_test, y_pred))"
   ]
  },
  {
   "cell_type": "code",
   "execution_count": null,
   "id": "76ccecd6",
   "metadata": {},
   "outputs": [],
   "source": []
  }
 ],
 "metadata": {
  "kernelspec": {
   "display_name": "Python 3 (ipykernel)",
   "language": "python",
   "name": "python3"
  },
  "language_info": {
   "codemirror_mode": {
    "name": "ipython",
    "version": 3
   },
   "file_extension": ".py",
   "mimetype": "text/x-python",
   "name": "python",
   "nbconvert_exporter": "python",
   "pygments_lexer": "ipython3",
   "version": "3.9.13"
  }
 },
 "nbformat": 4,
 "nbformat_minor": 5
}

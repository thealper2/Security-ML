{
 "cells": [
  {
   "cell_type": "code",
   "execution_count": 2,
   "id": "b3fd97b8",
   "metadata": {},
   "outputs": [],
   "source": [
    "import pandas as pd\n",
    "import numpy as np\n",
    "from sklearn.model_selection import train_test_split, GridSearchCV\n",
    "from xgboost import XGBClassifier\n",
    "from sklearn.metrics import mean_squared_error"
   ]
  },
  {
   "cell_type": "code",
   "execution_count": 4,
   "id": "2edb5693",
   "metadata": {},
   "outputs": [
    {
     "data": {
      "text/plain": [
       "Index(['Name', 'e_magic', 'e_cblp', 'e_cp', 'e_crlc', 'e_cparhdr',\n",
       "       'e_minalloc', 'e_maxalloc', 'e_ss', 'e_sp', 'e_csum', 'e_ip', 'e_cs',\n",
       "       'e_lfarlc', 'e_ovno', 'e_oemid', 'e_oeminfo', 'e_lfanew', 'Machine',\n",
       "       'NumberOfSections', 'TimeDateStamp', 'PointerToSymbolTable',\n",
       "       'NumberOfSymbols', 'SizeOfOptionalHeader', 'Characteristics', 'Magic',\n",
       "       'MajorLinkerVersion', 'MinorLinkerVersion', 'SizeOfCode',\n",
       "       'SizeOfInitializedData', 'SizeOfUninitializedData',\n",
       "       'AddressOfEntryPoint', 'BaseOfCode', 'ImageBase', 'SectionAlignment',\n",
       "       'FileAlignment', 'MajorOperatingSystemVersion',\n",
       "       'MinorOperatingSystemVersion', 'MajorImageVersion', 'MinorImageVersion',\n",
       "       'MajorSubsystemVersion', 'MinorSubsystemVersion', 'SizeOfHeaders',\n",
       "       'CheckSum', 'SizeOfImage', 'Subsystem', 'DllCharacteristics',\n",
       "       'SizeOfStackReserve', 'SizeOfStackCommit', 'SizeOfHeapReserve',\n",
       "       'SizeOfHeapCommit', 'LoaderFlags', 'NumberOfRvaAndSizes', 'Malware',\n",
       "       'SuspiciousImportFunctions', 'SuspiciousNameSection', 'SectionsLength',\n",
       "       'SectionMinEntropy', 'SectionMaxEntropy', 'SectionMinRawsize',\n",
       "       'SectionMaxRawsize', 'SectionMinVirtualsize', 'SectionMaxVirtualsize',\n",
       "       'SectionMaxPhysical', 'SectionMinPhysical', 'SectionMaxVirtual',\n",
       "       'SectionMinVirtual', 'SectionMaxPointerData', 'SectionMinPointerData',\n",
       "       'SectionMaxChar', 'SectionMainChar', 'DirectoryEntryImport',\n",
       "       'DirectoryEntryImportSize', 'DirectoryEntryExport',\n",
       "       'ImageDirectoryEntryExport', 'ImageDirectoryEntryImport',\n",
       "       'ImageDirectoryEntryResource', 'ImageDirectoryEntryException',\n",
       "       'ImageDirectoryEntrySecurity'],\n",
       "      dtype='object')"
      ]
     },
     "execution_count": 4,
     "metadata": {},
     "output_type": "execute_result"
    }
   ],
   "source": [
    "df = pd.read_csv(\"file_pe_headers.csv\", sep=\",\")\n",
    "df.columns"
   ]
  },
  {
   "cell_type": "code",
   "execution_count": 6,
   "id": "89c769ac",
   "metadata": {},
   "outputs": [],
   "source": [
    "X = df.drop([\"Name\", \"Malware\"], axis=1).values\n",
    "y = df[\"Malware\"].values\n",
    "\n",
    "X_train, X_test, y_train, y_test = train_test_split(X, y, test_size=0.2, random_state=4242)"
   ]
  },
  {
   "cell_type": "code",
   "execution_count": 7,
   "id": "cb470142",
   "metadata": {},
   "outputs": [],
   "source": [
    "xgb_model = XGBClassifier().fit(X_train, y_train)"
   ]
  },
  {
   "cell_type": "markdown",
   "id": "0b381af6",
   "metadata": {},
   "source": [
    "# Tahmin"
   ]
  },
  {
   "cell_type": "code",
   "execution_count": 8,
   "id": "1544793c",
   "metadata": {},
   "outputs": [],
   "source": [
    "y_pred = xgb_model.predict(X_test)"
   ]
  },
  {
   "cell_type": "code",
   "execution_count": 9,
   "id": "cff5b800",
   "metadata": {},
   "outputs": [
    {
     "data": {
      "text/plain": [
       "0.07656931536901405"
      ]
     },
     "execution_count": 9,
     "metadata": {},
     "output_type": "execute_result"
    }
   ],
   "source": [
    "np.sqrt(mean_squared_error(y_test, y_pred))"
   ]
  },
  {
   "cell_type": "markdown",
   "id": "93e304dc",
   "metadata": {},
   "source": [
    "# Model Tuning"
   ]
  },
  {
   "cell_type": "code",
   "execution_count": null,
   "id": "0fdc7988",
   "metadata": {},
   "outputs": [],
   "source": [
    "xgb_params = {'n_estimators': [100, 250, 500],\n",
    "              'subsample': [0.8, 0.9],\n",
    "              'max_depth': [3, 4, 5, 6],\n",
    "              'learning_rate': [0.01, 0.1, 0.2],\n",
    "              'min_samples_split': [3, 7]}\n",
    "xgb_model = XGBClassifier()\n",
    "xgb_cv_model = GridSearchCV(xgb_model, xgb_params, cv=10, n_jobs=-1).fit(X_train, y_train)"
   ]
  },
  {
   "cell_type": "code",
   "execution_count": null,
   "id": "49f75b3b",
   "metadata": {},
   "outputs": [],
   "source": [
    "xgb_tuned = RandomForestClassifier(max_depth=9, max_features=20, n_estimators=100).fit(X_train, y_train)\n",
    "y_pred = xgb_tuned.predict(X_test)\n",
    "np.sqrt(mean_squared_error(y_test, y_pred))"
   ]
  }
 ],
 "metadata": {
  "kernelspec": {
   "display_name": "Python 3 (ipykernel)",
   "language": "python",
   "name": "python3"
  },
  "language_info": {
   "codemirror_mode": {
    "name": "ipython",
    "version": 3
   },
   "file_extension": ".py",
   "mimetype": "text/x-python",
   "name": "python",
   "nbconvert_exporter": "python",
   "pygments_lexer": "ipython3",
   "version": "3.9.13"
  }
 },
 "nbformat": 4,
 "nbformat_minor": 5
}

{
 "cells": [
  {
   "cell_type": "code",
   "execution_count": 18,
   "id": "0f02f95f",
   "metadata": {},
   "outputs": [],
   "source": [
    "import pandas as pd\n",
    "import numpy as np\n",
    "from sklearn.model_selection import train_test_split\n",
    "from sklearn.metrics import mean_squared_error\n",
    "from sklearn.tree import DecisionTreeClassifier\n",
    "from sklearn.ensemble import RandomForestClassifier\n",
    "from sklearn.cluster import KMeans"
   ]
  },
  {
   "cell_type": "code",
   "execution_count": 3,
   "id": "5c847c42",
   "metadata": {},
   "outputs": [
    {
     "data": {
      "text/plain": [
       "Index(['AddressOfEntryPoint', 'MajorLinkerVersion', 'MajorImageVersion',\n",
       "       'MajorOperatingSystemVersion', 'DllCharacteristics',\n",
       "       'SizeOfStackReserve', 'NumberOfSections', 'ResourceSize', 'legitimate'],\n",
       "      dtype='object')"
      ]
     },
     "execution_count": 3,
     "metadata": {},
     "output_type": "execute_result"
    }
   ],
   "source": [
    "df = pd.read_csv(\"MalwareArtifacts.csv\")\n",
    "df.columns"
   ]
  },
  {
   "cell_type": "code",
   "execution_count": 5,
   "id": "fa1e83b4",
   "metadata": {},
   "outputs": [],
   "source": [
    "samples = df.iloc[:, [0, 4]]\n",
    "targets = df.iloc[:, 8]"
   ]
  },
  {
   "cell_type": "code",
   "execution_count": 11,
   "id": "e693de21",
   "metadata": {},
   "outputs": [],
   "source": [
    "X = df[['AddressOfEntryPoint', 'DllCharacteristics']].values\n",
    "y = df['legitimate'].values\n",
    "\n",
    "X_train, X_test, y_train, y_test = train_test_split(X, y, test_size=0.2, random_state=4242)"
   ]
  },
  {
   "cell_type": "code",
   "execution_count": 12,
   "id": "2527445f",
   "metadata": {},
   "outputs": [
    {
     "data": {
      "text/plain": [
       "(numpy.ndarray, numpy.ndarray, numpy.ndarray, numpy.ndarray)"
      ]
     },
     "execution_count": 12,
     "metadata": {},
     "output_type": "execute_result"
    }
   ],
   "source": [
    "type(X_train), type(X_test), type(y_train), type(y_test)"
   ]
  },
  {
   "cell_type": "code",
   "execution_count": 14,
   "id": "7f282b84",
   "metadata": {},
   "outputs": [],
   "source": [
    "dtc_model = DecisionTreeClassifier().fit(X_train, y_train)"
   ]
  },
  {
   "cell_type": "code",
   "execution_count": 15,
   "id": "4a9bf7f1",
   "metadata": {},
   "outputs": [],
   "source": [
    "rfc_model = RandomForestClassifier().fit(X_train, y_train)"
   ]
  },
  {
   "cell_type": "code",
   "execution_count": 16,
   "id": "7a66e9a3",
   "metadata": {},
   "outputs": [],
   "source": [
    "kmeans_model = KMeans().fit(X_train, y_train)"
   ]
  },
  {
   "cell_type": "markdown",
   "id": "3f78cd74",
   "metadata": {},
   "source": [
    "# Tahmin"
   ]
  },
  {
   "cell_type": "code",
   "execution_count": 19,
   "id": "a56d6ab0",
   "metadata": {},
   "outputs": [
    {
     "data": {
      "text/plain": [
       "0.19101654954900613"
      ]
     },
     "execution_count": 19,
     "metadata": {},
     "output_type": "execute_result"
    }
   ],
   "source": [
    "dtc_pred = dtc_model.predict(X_test)\n",
    "np.sqrt(mean_squared_error(y_test, dtc_pred))"
   ]
  },
  {
   "cell_type": "code",
   "execution_count": 20,
   "id": "68eb183f",
   "metadata": {},
   "outputs": [
    {
     "data": {
      "text/plain": [
       "0.18910250778039428"
      ]
     },
     "execution_count": 20,
     "metadata": {},
     "output_type": "execute_result"
    }
   ],
   "source": [
    "rfc_pred = rfc_model.predict(X_test)\n",
    "np.sqrt(mean_squared_error(y_test, rfc_pred))"
   ]
  },
  {
   "cell_type": "code",
   "execution_count": 21,
   "id": "8ac68d53",
   "metadata": {},
   "outputs": [
    {
     "data": {
      "text/plain": [
       "1.0790030200090701"
      ]
     },
     "execution_count": 21,
     "metadata": {},
     "output_type": "execute_result"
    }
   ],
   "source": [
    "kmeans_pred = kmeans_model.predict(X_test)\n",
    "np.sqrt(mean_squared_error(y_test, kmeans_pred))"
   ]
  },
  {
   "cell_type": "code",
   "execution_count": null,
   "id": "50db1452",
   "metadata": {},
   "outputs": [],
   "source": []
  }
 ],
 "metadata": {
  "kernelspec": {
   "display_name": "Python 3 (ipykernel)",
   "language": "python",
   "name": "python3"
  },
  "language_info": {
   "codemirror_mode": {
    "name": "ipython",
    "version": 3
   },
   "file_extension": ".py",
   "mimetype": "text/x-python",
   "name": "python",
   "nbconvert_exporter": "python",
   "pygments_lexer": "ipython3",
   "version": "3.9.13"
  }
 },
 "nbformat": 4,
 "nbformat_minor": 5
}

{
 "cells": [
  {
   "cell_type": "code",
   "execution_count": 5,
   "id": "fc175e40",
   "metadata": {},
   "outputs": [],
   "source": [
    "import pandas as pd\n",
    "import numpy as np\n",
    "from sklearn.model_selection import train_test_split, GridSearchCV\n",
    "from sklearn.metrics import mean_squared_error\n",
    "from sklearn.preprocessing import LabelEncoder\n",
    "from xgboost import XGBClassifier"
   ]
  },
  {
   "cell_type": "code",
   "execution_count": 2,
   "id": "42610258",
   "metadata": {},
   "outputs": [
    {
     "data": {
      "text/plain": [
       "Index(['ack', 'ack_A', 'ack_B', 'bytes', 'bytes_A', 'bytes_A_B_ratio',\n",
       "       'bytes_B', 'ds_field_A', 'ds_field_B', 'duration',\n",
       "       ...\n",
       "       'suffix_is_co.il', 'suffix_is_com', 'suffix_is_com.sg',\n",
       "       'suffix_is_else', 'suffix_is_empty_char_value',\n",
       "       'suffix_is_googleapis.com', 'suffix_is_net', 'suffix_is_org',\n",
       "       'suffix_is_unresolved', 'device_category'],\n",
       "      dtype='object', length=298)"
      ]
     },
     "execution_count": 2,
     "metadata": {},
     "output_type": "execute_result"
    }
   ],
   "source": [
    "train = pd.read_csv(\"iot_devices_train.csv\")\n",
    "test = pd.read_csv(\"iot_devices_test.csv\")\n",
    "df = pd.concat([train, test])\n",
    "df.columns"
   ]
  },
  {
   "cell_type": "code",
   "execution_count": 3,
   "id": "8221e706",
   "metadata": {},
   "outputs": [],
   "source": [
    "X = df.drop(['device_category'], axis=1).values\n",
    "y = df['device_category'].values\n",
    "\n",
    "X_train, X_test, y_train, y_test = train_test_split(X, y, test_size=0.2, random_state=4242)"
   ]
  },
  {
   "cell_type": "code",
   "execution_count": 6,
   "id": "9a84e69b",
   "metadata": {},
   "outputs": [],
   "source": [
    "le = LabelEncoder()\n",
    "le.fit(df[\"device_category\"].unique())\n",
    "y_train_encoded = le.transform(y_train)\n",
    "y_test_encoded = le.transform(y_test)"
   ]
  },
  {
   "cell_type": "code",
   "execution_count": 7,
   "id": "157f3206",
   "metadata": {},
   "outputs": [],
   "source": [
    "xgb_model = XGBClassifier().fit(X_train, y_train_encoded)"
   ]
  },
  {
   "cell_type": "markdown",
   "id": "6088f721",
   "metadata": {},
   "source": [
    "# Tahmin"
   ]
  },
  {
   "cell_type": "code",
   "execution_count": 8,
   "id": "ae4c194b",
   "metadata": {},
   "outputs": [],
   "source": [
    "y_pred = xgb_model.predict(X_test)"
   ]
  },
  {
   "cell_type": "code",
   "execution_count": 12,
   "id": "bdc4f053",
   "metadata": {},
   "outputs": [
    {
     "data": {
      "text/plain": [
       "1.7703701664668294"
      ]
     },
     "execution_count": 12,
     "metadata": {},
     "output_type": "execute_result"
    }
   ],
   "source": [
    "np.sqrt(mean_squared_error(y_test_encoded, y_pred))"
   ]
  },
  {
   "cell_type": "markdown",
   "id": "fe9bf5f3",
   "metadata": {},
   "source": [
    "# Model Tuning"
   ]
  },
  {
   "cell_type": "code",
   "execution_count": null,
   "id": "d3c156a3",
   "metadata": {},
   "outputs": [],
   "source": [
    "xgb_params = {'n_estimators': [100, 250, 500, 2100],\n",
    "              'subsample': [0.8, 0.9, 1.0],\n",
    "              'max_depth': [3, 4, 5, 6],\n",
    "              'learning_rate': [0.01, 0.1, 0.2],\n",
    "              'min_samples_split': [3, 7, 10]}\n",
    "xgb_model = XGBClassifier()\n",
    "xgb_cv_model = GridSearchCV(xgb_model, xgb_params, cv=10, n_jobs=-1).fit(X_train, y_train)"
   ]
  },
  {
   "cell_type": "code",
   "execution_count": null,
   "id": "7650e12f",
   "metadata": {},
   "outputs": [],
   "source": [
    "xgb_tuned = RandomForestClassifier(max_depth=9, max_features=20, n_estimators=100).fit(X_train, y_train)\n",
    "y_pred = xgb_tuned.predict(X_test)\n",
    "np.sqrt(mean_squared_error(y_test_encoded, y_pred))"
   ]
  }
 ],
 "metadata": {
  "kernelspec": {
   "display_name": "Python 3 (ipykernel)",
   "language": "python",
   "name": "python3"
  },
  "language_info": {
   "codemirror_mode": {
    "name": "ipython",
    "version": 3
   },
   "file_extension": ".py",
   "mimetype": "text/x-python",
   "name": "python",
   "nbconvert_exporter": "python",
   "pygments_lexer": "ipython3",
   "version": "3.9.13"
  }
 },
 "nbformat": 4,
 "nbformat_minor": 5
}

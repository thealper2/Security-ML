{
 "cells": [
  {
   "cell_type": "code",
   "execution_count": 15,
   "id": "9f320e88",
   "metadata": {},
   "outputs": [],
   "source": [
    "import pandas as pd\n",
    "import numpy as np\n",
    "from sklearn.model_selection import train_test_split, GridSearchCV\n",
    "from sklearn.metrics import mean_squared_error\n",
    "from sklearn.ensemble import RandomForestClassifier"
   ]
  },
  {
   "cell_type": "code",
   "execution_count": 16,
   "id": "8069bb30",
   "metadata": {},
   "outputs": [
    {
     "data": {
      "text/plain": [
       "Index(['-64', '-56', '-61', '-66', '-71', '-82', '-81', '1'], dtype='object')"
      ]
     },
     "execution_count": 16,
     "metadata": {},
     "output_type": "execute_result"
    }
   ],
   "source": [
    "df = pd.read_csv(\"wifi_localization.txt\", sep=\"\\t\")\n",
    "df.columns"
   ]
  },
  {
   "cell_type": "code",
   "execution_count": 17,
   "id": "d3101b0b",
   "metadata": {},
   "outputs": [],
   "source": [
    "df.rename(columns = {\"-64\":\"r1\", \"-56\":\"r2\", \"-61\":\"r3\", \"-66\":\"r4\", \"-71\":\"r5\", \"-82\":\"r6\", \"-81\":\"r7\", \"1\":\"wifi\"}, inplace=True)"
   ]
  },
  {
   "cell_type": "code",
   "execution_count": 18,
   "id": "79b9dba1",
   "metadata": {},
   "outputs": [
    {
     "data": {
      "text/plain": [
       "Index(['r1', 'r2', 'r3', 'r4', 'r5', 'r6', 'r7', 'wifi'], dtype='object')"
      ]
     },
     "execution_count": 18,
     "metadata": {},
     "output_type": "execute_result"
    }
   ],
   "source": [
    "df.columns"
   ]
  },
  {
   "cell_type": "code",
   "execution_count": 19,
   "id": "c39543c2",
   "metadata": {},
   "outputs": [],
   "source": [
    "X = df.drop(['wifi'], axis=1).values\n",
    "y = df[\"wifi\"].values\n",
    "\n",
    "X_train, X_test, y_train, y_test = train_test_split(X, y, test_size=0.2, random_state=4242)"
   ]
  },
  {
   "cell_type": "code",
   "execution_count": 20,
   "id": "34a8088d",
   "metadata": {},
   "outputs": [],
   "source": [
    "rfc_model = RandomForestClassifier().fit(X_train, y_train)"
   ]
  },
  {
   "cell_type": "markdown",
   "id": "7173252d",
   "metadata": {},
   "source": [
    "# Tahmin"
   ]
  },
  {
   "cell_type": "code",
   "execution_count": 21,
   "id": "a36bc95a",
   "metadata": {},
   "outputs": [
    {
     "data": {
      "text/plain": [
       "0.1"
      ]
     },
     "execution_count": 21,
     "metadata": {},
     "output_type": "execute_result"
    }
   ],
   "source": [
    "y_pred = rfc_model.predict(X_test)\n",
    "np.sqrt(mean_squared_error(y_test, y_pred))"
   ]
  },
  {
   "cell_type": "markdown",
   "id": "48516125",
   "metadata": {},
   "source": [
    "# Model Tuning"
   ]
  },
  {
   "cell_type": "code",
   "execution_count": null,
   "id": "62dcb909",
   "metadata": {},
   "outputs": [],
   "source": [
    "rf_params = {\"max_depth\": [2, 5, 8, 10], \n",
    "             \"max_features\": [2,5,8], \n",
    "             \"n_estimators\": [100, 500, 1000], \n",
    "             \"min_samples_split\": [2, 4, 5]}\n",
    "rfc_model = RandomForestClassifier()\n",
    "rfc_cv_model = GridSearchCV(rfc_model, rf_params, cv=10, n_jobs=-1).fit(X_train, y_train)\n",
    "rfc_cv_model.best_params_"
   ]
  },
  {
   "cell_type": "code",
   "execution_count": null,
   "id": "938fee12",
   "metadata": {},
   "outputs": [],
   "source": [
    "rfc_tuned = RandomForestClassifier(max_depth=5, max_features=2, min_samples_split=4, n_estimators=500).fit(X_train, y_train)\n",
    "y_pred = rfc_tuned.predict(X_test)\n",
    "accuracy_score(y_test, y_pred)"
   ]
  }
 ],
 "metadata": {
  "kernelspec": {
   "display_name": "Python 3 (ipykernel)",
   "language": "python",
   "name": "python3"
  },
  "language_info": {
   "codemirror_mode": {
    "name": "ipython",
    "version": 3
   },
   "file_extension": ".py",
   "mimetype": "text/x-python",
   "name": "python",
   "nbconvert_exporter": "python",
   "pygments_lexer": "ipython3",
   "version": "3.9.13"
  }
 },
 "nbformat": 4,
 "nbformat_minor": 5
}

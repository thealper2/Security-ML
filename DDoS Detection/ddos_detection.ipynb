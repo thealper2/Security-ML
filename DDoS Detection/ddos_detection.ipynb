{
 "cells": [
  {
   "cell_type": "code",
   "execution_count": 1,
   "id": "0568f9dc",
   "metadata": {},
   "outputs": [],
   "source": [
    "import pandas as pd\n",
    "import numpy as np\n",
    "from sklearn.model_selection import train_test_split, GridSearchCV\n",
    "from sklearn.ensemble import RandomForestClassifier\n",
    "from sklearn.metrics import mean_squared_error"
   ]
  },
  {
   "cell_type": "code",
   "execution_count": 2,
   "id": "ceff1ba3",
   "metadata": {},
   "outputs": [
    {
     "data": {
      "text/plain": [
       "Index(['Flow ID', 'Timestamp', 'Fwd Pkt Len Mean', 'Fwd Seg Size Avg',\n",
       "       'Init Fwd Win Byts', 'Init Bwd Win Byts', 'Fwd Seg Size Min', 'Label'],\n",
       "      dtype='object')"
      ]
     },
     "execution_count": 2,
     "metadata": {},
     "output_type": "execute_result"
    }
   ],
   "source": [
    "df = pd.read_csv(\"ddos_dataset.csv\")\n",
    "df.columns"
   ]
  },
  {
   "cell_type": "code",
   "execution_count": 6,
   "id": "4f6ecd2b",
   "metadata": {},
   "outputs": [],
   "source": [
    "df = df.sort_values(\"Timestamp\")"
   ]
  },
  {
   "cell_type": "code",
   "execution_count": 3,
   "id": "48fc7b15",
   "metadata": {},
   "outputs": [],
   "source": [
    "columns = [\n",
    "    'Fwd Pkt Len Mean',\n",
    "    'Fwd Seg Size Avg',\n",
    "    'Init Fwd Win Byts',\n",
    "    'Init Bwd Win Byts',\n",
    "    'Fwd Seg Size Min',\n",
    "    'Label'\n",
    "]"
   ]
  },
  {
   "cell_type": "code",
   "execution_count": 5,
   "id": "3fef4b4c",
   "metadata": {},
   "outputs": [],
   "source": [
    "dtypes = {\n",
    "    'Fwd Pkt Len Mean': 'float',\n",
    "    'Fwd Seg Size Avg': 'float',\n",
    "    'Init Fwd Win Byts': 'int',\n",
    "    'Init Bwd Win Byts': 'int',\n",
    "    'Fwd Seg Size Min': 'int',\n",
    "    'Label': 'string'\n",
    "}"
   ]
  },
  {
   "cell_type": "code",
   "execution_count": 44,
   "id": "6453b5c7",
   "metadata": {},
   "outputs": [],
   "source": [
    "df = pd.read_csv(\"ddos_dataset.csv\", usecols=columns, dtype=dtypes)"
   ]
  },
  {
   "cell_type": "code",
   "execution_count": 52,
   "id": "766f843a",
   "metadata": {},
   "outputs": [],
   "source": [
    "def ddos_replace(row):\n",
    "    if row[\"Label\"] == \"ddos\":\n",
    "        return 1\n",
    "    else:\n",
    "        return 0\n",
    "    \n",
    "df[\"Label\"] = df.apply(ddos_replace, axis=1)"
   ]
  },
  {
   "cell_type": "code",
   "execution_count": 87,
   "id": "b2ed5cb8",
   "metadata": {},
   "outputs": [],
   "source": [
    "X = df.drop(['Label'], axis=1)\n",
    "y = df['Label']\n",
    "\n",
    "X_train, X_test, y_train, y_test = train_test_split(X, y, test_size=0.2, random_state=4242)"
   ]
  },
  {
   "cell_type": "code",
   "execution_count": 88,
   "id": "77efd53c",
   "metadata": {},
   "outputs": [],
   "source": [
    "rf_model = RandomForestClassifier().fit(X_train, y_train)"
   ]
  },
  {
   "cell_type": "markdown",
   "id": "159f8674",
   "metadata": {},
   "source": [
    "# Tahmin"
   ]
  },
  {
   "cell_type": "code",
   "execution_count": 89,
   "id": "b666844d",
   "metadata": {},
   "outputs": [],
   "source": [
    "y_pred = rf_model.predict(X_test)"
   ]
  },
  {
   "cell_type": "code",
   "execution_count": 90,
   "id": "227038a0",
   "metadata": {},
   "outputs": [
    {
     "data": {
      "text/plain": [
       "0.05431390245600108"
      ]
     },
     "execution_count": 90,
     "metadata": {},
     "output_type": "execute_result"
    }
   ],
   "source": [
    "np.sqrt(mean_squared_error(y_test, y_pred))"
   ]
  },
  {
   "cell_type": "markdown",
   "id": "226f7966",
   "metadata": {},
   "source": [
    "# Model Tuning"
   ]
  },
  {
   "cell_type": "code",
   "execution_count": null,
   "id": "38189fe9",
   "metadata": {},
   "outputs": [],
   "source": [
    "rf_params = {'max_depth': list(range(1, 5)), 'max_features': [1, 2, 3], 'n_estimators': [100, 200, 300]}\n",
    "rf_cv_model = GridSearchCV(rf_model, rf_params, cv=10, n_jobs=-1).fit(X_train, y_train)\n",
    "rf_cv_model.best_params_"
   ]
  },
  {
   "cell_type": "code",
   "execution_count": null,
   "id": "59b6b60d",
   "metadata": {},
   "outputs": [],
   "source": [
    "rf_tuned = RandomForestClassifier(max_depth=9, max_features=20, n_estimators=100).fit(X_train, y_train)\n",
    "y_pred = rf_tuned.predict(X_test)\n",
    "np.sqrt(mean_squared_error(y_test, y_pred))"
   ]
  }
 ],
 "metadata": {
  "kernelspec": {
   "display_name": "Python 3 (ipykernel)",
   "language": "python",
   "name": "python3"
  },
  "language_info": {
   "codemirror_mode": {
    "name": "ipython",
    "version": 3
   },
   "file_extension": ".py",
   "mimetype": "text/x-python",
   "name": "python",
   "nbconvert_exporter": "python",
   "pygments_lexer": "ipython3",
   "version": "3.9.13"
  }
 },
 "nbformat": 4,
 "nbformat_minor": 5
}
